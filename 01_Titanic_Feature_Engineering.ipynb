{
 "cells": [
  {
   "cell_type": "code",
   "execution_count": 3,
   "metadata": {},
   "outputs": [],
   "source": [
    "import pandas as pd\n",
    "import numpy as np\n",
    "import seaborn as sns\n",
    "import matplotlib.pyplot as plt"
   ]
  },
  {
   "cell_type": "code",
   "execution_count": 3,
   "metadata": {},
   "outputs": [],
   "source": [
    "from sklearn.metrics import accuracy_score, classification_report, confusion_matrix\n",
    "from sklearn.linear_model import LogisticRegression\n",
    "from sklearn.model_selection import train_test_split, GridSearchCV\n",
    "from sklearn.preprocessing import StandardScaler\n",
    "from sklearn.neighbors import KNeighborsClassifier\n",
    "from sklearn.pipeline import Pipeline\n",
    "from sklearn.svm import SVC"
   ]
  },
  {
   "cell_type": "markdown",
   "metadata": {},
   "source": [
    "We have cleaned the dataset in another notebook. You can see the details [here](https://github.com/galiph/ExploratoryDataAnalysis/blob/master/01_Titanic_EDA.ipynb). "
   ]
  },
  {
   "cell_type": "code",
   "execution_count": 17,
   "metadata": {},
   "outputs": [],
   "source": [
    "titanic_df = pd.read_csv('./data/titanic_train.csv')\n",
    "\n",
    "#Converting Sex\n",
    "sex_conv = lambda x : 1 if x=='male' else 0 \n",
    "titanic_df['Is_male'] = titanic_df['Sex'].apply(sex_conv)\n",
    "\n",
    "# Adding Family column\n",
    "titanic_df['FamilySize'] = titanic_df['SibSp'] + titanic_df['Parch']\n",
    "titanic_df.drop('SibSp',axis=1,inplace=True)\n",
    "titanic_df.drop('Parch',axis=1,inplace=True)\n",
    "\n",
    "# Adding \"Title\" column\n",
    "titanic_df['Title']=0\n",
    "for i in df:\n",
    "    titanic_df['Title']=titanic_df['Name'].str.extract('([A-Za-z]+)\\.', expand=False)  \n",
    "\n",
    "# Dropping some columns\n",
    "titanic_df.drop(['Ticket', 'Cabin', \"Name\", \"Sex\"], axis=1, inplace = True)\n",
    "\n",
    "# Imputing Age  \n",
    "titanic_df['Age'] = titanic_df.groupby('Title')['Age'].transform(lambda x: x.fillna(np.round(x.mean())))\n",
    "\n",
    "# Converting Age\n",
    "titanic_df['Age'] =pd.cut(titanic_df['Age'], bins=[1, 12, 50, 200], labels=['Child','Adult','Elder'])"
   ]
  },
  {
   "cell_type": "code",
   "execution_count": 4,
   "metadata": {},
   "outputs": [],
   "source": [
    "def class_fare(cols):\n",
    "    if (cols[0] == 1):\n",
    "        if (cols[1] > 84 ):\n",
    "            return 1\n",
    "        else:\n",
    "            return 2\n",
    "    elif (cols[0] == 2):\n",
    "        if (cols[1] > 21 ):\n",
    "            return 3\n",
    "        else:\n",
    "            return 4\n",
    "    else:\n",
    "        if (cols[1] > 14 ):\n",
    "            return 5\n",
    "        else:\n",
    "            return 6"
   ]
  },
  {
   "cell_type": "code",
   "execution_count": 9,
   "metadata": {},
   "outputs": [
    {
     "name": "stdout",
     "output_type": "stream",
     "text": [
      "<class 'pandas.core.frame.DataFrame'>\n",
      "RangeIndex: 891 entries, 0 to 890\n",
      "Data columns (total 10 columns):\n",
      "PassengerId    891 non-null int64\n",
      "Survived       891 non-null int64\n",
      "Pclass         891 non-null int64\n",
      "Sex            891 non-null object\n",
      "Age            877 non-null category\n",
      "Fare           891 non-null float64\n",
      "Embarked       889 non-null object\n",
      "Is_male        891 non-null int64\n",
      "FamilySize     891 non-null int64\n",
      "Title          891 non-null object\n",
      "dtypes: category(1), float64(1), int64(5), object(3)\n",
      "memory usage: 63.7+ KB\n"
     ]
    }
   ],
   "source": [
    "titanic_df.info()"
   ]
  },
  {
   "cell_type": "code",
   "execution_count": 13,
   "metadata": {},
   "outputs": [],
   "source": [
    "titanic_df['Embarked'] = pd.Categorical(df['Embarked'])\n",
    "titanic_df['Pclass'] = pd.Categorical(df['Pclass'])\n",
    "titanic_df['Sex'] = pd.Categorical(df['Sex'])"
   ]
  },
  {
   "cell_type": "code",
   "execution_count": 14,
   "metadata": {},
   "outputs": [
    {
     "data": {
      "text/plain": [
       "PassengerId       int64\n",
       "Survived          int64\n",
       "Pclass         category\n",
       "Sex            category\n",
       "Age            category\n",
       "Fare            float64\n",
       "Embarked       category\n",
       "Is_male           int64\n",
       "FamilySize        int64\n",
       "Title            object\n",
       "dtype: object"
      ]
     },
     "execution_count": 14,
     "metadata": {},
     "output_type": "execute_result"
    }
   ],
   "source": [
    "titanic_df.dtypes"
   ]
  },
  {
   "cell_type": "code",
   "execution_count": null,
   "metadata": {},
   "outputs": [],
   "source": []
  }
 ],
 "metadata": {
  "kernelspec": {
   "display_name": "Python 3",
   "language": "python",
   "name": "python3"
  },
  "language_info": {
   "codemirror_mode": {
    "name": "ipython",
    "version": 3
   },
   "file_extension": ".py",
   "mimetype": "text/x-python",
   "name": "python",
   "nbconvert_exporter": "python",
   "pygments_lexer": "ipython3",
   "version": "3.6.5"
  }
 },
 "nbformat": 4,
 "nbformat_minor": 2
}
